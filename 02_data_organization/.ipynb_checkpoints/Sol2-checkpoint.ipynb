{
 "cells": [
  {
   "cell_type": "code",
   "execution_count": 2,
   "id": "1d4d4406-1c60-4c29-8c6d-f377348542c7",
   "metadata": {},
   "outputs": [
    {
     "name": "stdout",
     "output_type": "stream",
     "text": [
      "   Tape_ID  Data_Size Units\n",
      "0   MSC-04     230.00    GB\n",
      "1   MSC-13     432.00    GB\n",
      "2   MSC-18     653.00    GB\n",
      "3   MSC-15     750.00    GB\n",
      "4   MSC-06     762.00    GB\n",
      "5   MSC-08     834.00    GB\n",
      "6   MSC-12     879.00    GB\n",
      "7   MSC-10     907.00    GB\n",
      "8   MSC-07     976.00    GB\n",
      "9   MSC-11       1.13    TB\n",
      "10  MSC-19       1.20    TB\n",
      "11  MSC-03       1.20    TB\n",
      "12  MSC-16       1.73    TB\n",
      "13  MSC-05       1.90    TB\n",
      "14  MSC-01       2.20    TB\n",
      "15  MSC-02       2.73    TB\n",
      "16  MSC-09       2.98    TB\n",
      "17  MSC-17       3.45    TB\n",
      "18  MSC-14       3.87    TB\n"
     ]
    }
   ],
   "source": [
    "import pandas as pd\n",
    "import re\n",
    "\n",
    "gb=\"GB\"\n",
    "tb=\"TB\"\n",
    "unit=[]\n",
    "def call_convert(column):\n",
    "    df = pd.read_csv('/Users/ryanskinner/chpc_summer_interns/02_data_organization/data/tape_data.csv')\n",
    "    for x in range(19):\n",
    "        d=re.split(\" +\", df[column].iloc[x])\n",
    "        if d[1]=='TB':\n",
    "            d[0]=float(d[0])*1000\n",
    "        elif(d[1]=='GB'):\n",
    "            d[0]=float(d[0])       \n",
    "        df=df.replace(df[column].iloc[x],d[0])\n",
    "    return df\n",
    "\n",
    "def sort(column,df):\n",
    "    df.sort_values(by=column, inplace=True,ignore_index=True)\n",
    "    return df\n",
    "\n",
    "def unconvert(list,df):\n",
    "    #global df\n",
    "    for i in range(19):\n",
    "        v=df['Data_Size'].iloc[i]\n",
    "        if v<1000:    \n",
    "            list.append(gb)\n",
    "        elif v>=1000:\n",
    "            list.append(tb)\n",
    "    for i in range(19):\n",
    "        g=df['Data_Size'].iloc[i]\n",
    "        if g>=1000:\n",
    "            g=g/1000\n",
    "        df=df.replace(df['Data_Size'].iloc[i],g)\n",
    "    return df\n",
    "def drop_add(list,df):\n",
    "    df.drop('Unnamed: 0', inplace=True, axis=1)\n",
    "    df['Units'] = list\n",
    "    return df\n",
    "\n",
    "def save(file,df):\n",
    "    df.to_csv(file, index=False)\n",
    "    return df\n",
    "\n",
    "df1=call_convert('Data_Size')\n",
    "df2=sort('Data_Size',df1)\n",
    "df3=unconvert(unit,df2)\n",
    "df4=drop_add(unit,df3)\n",
    "save('tape_data.csv',df4)\n",
    "\n",
    "print(df)"
   ]
  },
  {
   "cell_type": "code",
   "execution_count": null,
   "id": "70697197-fbe5-4fcd-bb73-a71ac61ebc23",
   "metadata": {},
   "outputs": [],
   "source": []
  }
 ],
 "metadata": {
  "kernelspec": {
   "display_name": "summer_int",
   "language": "python",
   "name": "summer_int"
  },
  "language_info": {
   "codemirror_mode": {
    "name": "ipython",
    "version": 3
   },
   "file_extension": ".py",
   "mimetype": "text/x-python",
   "name": "python",
   "nbconvert_exporter": "python",
   "pygments_lexer": "ipython3",
   "version": "3.7.13"
  }
 },
 "nbformat": 4,
 "nbformat_minor": 5
}
