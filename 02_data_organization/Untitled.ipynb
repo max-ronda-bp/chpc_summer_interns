{
 "cells": [
  {
   "cell_type": "code",
   "execution_count": 7,
   "id": "3696caaf-3f49-4bb4-83f4-29b6f0514c1e",
   "metadata": {},
   "outputs": [
    {
     "data": {
      "text/plain": [
       "['kjafladszk', '', '', 'sdjfla']"
      ]
     },
     "execution_count": 7,
     "metadata": {},
     "output_type": "execute_result"
    }
   ],
   "source": [
    "x=\"kjafladszk   sdjfla\"\n",
    "x.split(' ')"
   ]
  },
  {
   "cell_type": "code",
   "execution_count": null,
   "id": "2aa2b1d8-be41-4bee-91db-f70c50d782c0",
   "metadata": {},
   "outputs": [],
   "source": []
  }
 ],
 "metadata": {
  "kernelspec": {
   "display_name": "summer_int",
   "language": "python",
   "name": "summer_int"
  },
  "language_info": {
   "codemirror_mode": {
    "name": "ipython",
    "version": 3
   },
   "file_extension": ".py",
   "mimetype": "text/x-python",
   "name": "python",
   "nbconvert_exporter": "python",
   "pygments_lexer": "ipython3",
   "version": "3.7.13"
  }
 },
 "nbformat": 4,
 "nbformat_minor": 5
}
