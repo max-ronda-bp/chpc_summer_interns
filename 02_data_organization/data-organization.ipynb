{
 "cells": [
  {
   "cell_type": "markdown",
   "id": "75b17dad-9077-4c41-8230-7880010bb576",
   "metadata": {
    "tags": []
   },
   "source": [
    "# 02 - Data Organization \n",
    "---\n",
    "\n",
    "## Prompt:\n",
    "\n",
    "After seeing what an excellent job you did helping the surveyors, the operations team would like your help as well!  They’ve received all the tapes that hold the data from the surveys.  The research team is eager to start getting their hands on the data, so the operations team wants to load the smallest tapes first – in order to get some data back to the researchers as quick as possible.  Given an excel spreadsheet (in comma delimited csv format) that lists the tape ids and the amount of data on each tape, output the tape ids and their associated amount of data, in order from smallest to largest.  The tape ID is a string.  The data size is a string consisting of the format `[integer GB/TB]`.  \n",
    "\n",
    "## Goal:\n",
    "Read input file `tape_data.csv` and write sorted `tape_data_sorted.csv`. You can find `.csv` file inside `/data` dir\n",
    "\n",
    "<img src=\"images/01_data_org_img.PNG\" align=\"left\" width=\"20%\">\n",
    "<img src=\"images/02_data_org_img.PNG\" align=\"left\" width=\"20%\">"
   ]
  },
  {
   "cell_type": "markdown",
   "id": "4f6e1181-a9bb-460f-8a6b-b5d4271842e8",
   "metadata": {},
   "source": [
    "### Learning material:\n",
    "\n",
    "| Concepts                                                                         | Importance            |\n",
    "| -----------                                                                      | -----------           |\n",
    "| [Python csv](https://docs.python.org/3/library/csv.html)                         | Basic understanding   |\n",
    "| [Pandas csv](https://www.w3schools.com/python/pandas/pandas_csv.asp)             | Basic understanding   |\n",
    "| [HPC Data Storage](https://www.weka.io/learn/hpc-storage-explained/)             | Fun read              |"
   ]
  },
  {
   "cell_type": "markdown",
   "id": "cc1e6169-9e72-4095-8591-eebdacdaab49",
   "metadata": {},
   "source": [
    "# Todo: Implement `read`"
   ]
  },
  {
   "cell_type": "code",
   "execution_count": null,
   "id": "b611ce81-e4ae-4550-9fcd-587292b525cc",
   "metadata": {},
   "outputs": [],
   "source": [
    "# code here"
   ]
  },
  {
   "cell_type": "markdown",
   "id": "a825a00c-a8f3-401c-a047-a3915d541388",
   "metadata": {},
   "source": [
    "# Todo: Implement `sort`"
   ]
  },
  {
   "cell_type": "code",
   "execution_count": null,
   "id": "b1aa6b2c-b7ab-4ac6-b3df-0b935374cdfe",
   "metadata": {},
   "outputs": [],
   "source": [
    "# code here"
   ]
  },
  {
   "cell_type": "markdown",
   "id": "20ac8ce5-7ba2-4e35-b0b4-f8c09b3dea0e",
   "metadata": {},
   "source": [
    "# Todo: Store `tape_data_sorted.csv`"
   ]
  },
  {
   "cell_type": "code",
   "execution_count": null,
   "id": "cdc4f001-7968-4b65-9a1b-284a7d139f11",
   "metadata": {},
   "outputs": [],
   "source": [
    "# code here"
   ]
  }
 ],
 "metadata": {
  "kernelspec": {
   "display_name": "intel-2021",
   "language": "python",
   "name": "conda-env-intel-2021-py"
  },
  "language_info": {
   "codemirror_mode": {
    "name": "ipython",
    "version": 3
   },
   "file_extension": ".py",
   "mimetype": "text/x-python",
   "name": "python",
   "nbconvert_exporter": "python",
   "pygments_lexer": "ipython3",
   "version": "3.8.12"
  }
 },
 "nbformat": 4,
 "nbformat_minor": 5
}
