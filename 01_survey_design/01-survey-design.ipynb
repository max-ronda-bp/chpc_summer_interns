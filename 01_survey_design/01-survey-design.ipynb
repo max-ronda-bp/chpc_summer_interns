{
 "cells": [
  {
   "cell_type": "markdown",
   "id": "34a374e3-4808-4182-b3fc-129fbc68da18",
   "metadata": {
    "tags": []
   },
   "source": [
    "# 01 - Survey Design \n",
    "---\n",
    "\n",
    "## Prompt:\n",
    "\n",
    "Oil companies use several types of seismic acquisition to generate data that allows them to “see” beneath the surface of the Earth and predict where oil and gas might be found.  One of the means of acquisition is known as an ocean bottom node, or OBN.  These nodes are placed on the bottom of the sea floor.  A boat then crosses over the area with the nodes, using air guns to send a shock wave through the Earth.  These shock waves reflect off the layers in the subsurface and move the OBNs by a slight amount.  Each OBN records the movements it detects, and this data is processed to determine a picture of the subsurface. \n",
    "\n",
    "Your job is to help determine some of the specifics of the OBN placement.  Your colleagues know the dimensions for the rectangular area to be surveyed, and the amount of space needed between each node.  The **inputs** will be the **x and y of the rectangular** survey area, and **d, the distance between nodes.**  The **output** will be the **total number of nodes** needed for the survey.\n",
    "\n",
    "The goal of this is to implement the function `calc_num_nodes()` and output the total number of nodes needed given specific inputs. \n",
    "\n",
    "\n",
    "### Ocean-Bottom Nodes Illustration (OBN)\n",
    "\n",
    "<img src=\"images/01_img.PNG\" align=\"center\" width=\"600px\">\n",
    "<br>\n",
    "\n",
    "### Helper Design:\n",
    "\n",
    "<img src=\"images/02_img.PNG\" align=\"left\" width=\"400px\">\n",
    "<img src=\"images/03_img.PNG\" align=\"left\" width=\"400px\">"
   ]
  },
  {
   "cell_type": "markdown",
   "id": "e1d5db54-873d-4def-a63a-14d87edbe85d",
   "metadata": {
    "tags": []
   },
   "source": [
    "## Todo 1: Implement `calc_num_nodes()`"
   ]
  },
  {
   "cell_type": "code",
   "execution_count": null,
   "id": "ed62d36a-99a0-4fbc-b5d5-4f2eba64d065",
   "metadata": {},
   "outputs": [],
   "source": [
    "def calc_num_nodes(x,y,d):\n",
    "    \"\"\"Implement function here to take in x,y,d and return\n",
    "    output (int) total nodes\n",
    "    \"\"\"\n",
    "    return output"
   ]
  },
  {
   "cell_type": "code",
   "execution_count": 2,
   "id": "d3734503-17d8-4330-af6f-4e5f5f6c5d53",
   "metadata": {},
   "outputs": [
    {
     "name": "stdout",
     "output_type": "stream",
     "text": [
      "The total number of nodes needed is  12\n"
     ]
    }
   ],
   "source": [
    "def calc_num_nodes(x,y,d):\n",
    "    x1=(x//d)+1\n",
    "    y1=(y//d)+1\n",
    "    node=x1*y1\n",
    "    return node\n",
    "#xval=eval(input(\"Enter the x distance here: \"))\n",
    "#yval=eval(input(\"Enter the y distance here: \"))\n",
    "#dval=eval(input(\"Enter the node distance from eachother here: \"))\n",
    "xval=7\n",
    "yval=5\n",
    "dval=2\n",
    "print(\"The total number of nodes needed is \",calc_num_nodes(xval,yval,dval))"
   ]
  },
  {
   "cell_type": "markdown",
   "id": "16aadc86-a88b-4e7b-bbbe-1362618b82fa",
   "metadata": {},
   "source": [
    "## Todo 2: Assert that your code passes the test\n",
    "\n",
    "You can use `asserts` in Python to write tests to make sure code is working as expected. "
   ]
  },
  {
   "cell_type": "code",
   "execution_count": 6,
   "id": "b5f343e0-99b3-44b6-8068-20550fc3dfe3",
   "metadata": {},
   "outputs": [],
   "source": [
    "assert calc_num_nodes(x=3,y=4,d=1) == 20 # needs to pass"
   ]
  },
  {
   "cell_type": "code",
   "execution_count": 4,
   "id": "566cf94c-149c-45f4-95db-50240b60fc41",
   "metadata": {},
   "outputs": [],
   "source": [
    "assert calc_num_nodes(x=7,y=5,d=2) == 12 # needs to pass"
   ]
  },
  {
   "cell_type": "markdown",
   "id": "91588520-e422-4ffd-b194-74b73216a656",
   "metadata": {},
   "source": [
    "# Todo 3: Add another assert test here "
   ]
  },
  {
   "cell_type": "code",
   "execution_count": null,
   "id": "a31f322b-8161-4dcd-a8c6-a2252b62179b",
   "metadata": {},
   "outputs": [],
   "source": [
    "# add code here\n",
    "assert "
   ]
  },
  {
   "cell_type": "markdown",
   "id": "d4689f0e-2e9b-487b-8b34-625546076ec4",
   "metadata": {},
   "source": [
    "# Todo 4: Bonus\n",
    "\n",
    "Implement a piece of code that allows a user to run your `calc_num_nodes()` code and also produce a graph using [matplotlib](https://www.geeksforgeeks.org/graph-plotting-in-python-set-1/) or any other alternative graphing library that Python offers"
   ]
  },
  {
   "cell_type": "code",
   "execution_count": null,
   "id": "7a474bb7-f01f-42ae-b536-59e1b904fab3",
   "metadata": {},
   "outputs": [],
   "source": []
  }
 ],
 "metadata": {
  "kernelspec": {
   "display_name": "summer_int",
   "language": "python",
   "name": "summer_int"
  },
  "language_info": {
   "codemirror_mode": {
    "name": "ipython",
    "version": 3
   },
   "file_extension": ".py",
   "mimetype": "text/x-python",
   "name": "python",
   "nbconvert_exporter": "python",
   "pygments_lexer": "ipython3",
   "version": "3.7.13"
  }
 },
 "nbformat": 4,
 "nbformat_minor": 5
}
