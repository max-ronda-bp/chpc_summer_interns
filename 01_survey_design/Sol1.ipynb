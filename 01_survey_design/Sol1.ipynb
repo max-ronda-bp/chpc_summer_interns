{
 "cells": [
  {
   "cell_type": "code",
   "execution_count": 1,
   "id": "f43db538-124e-42ef-870b-a1500bb79ec6",
   "metadata": {},
   "outputs": [
    {
     "name": "stdin",
     "output_type": "stream",
     "text": [
      "Enter the x distance here:  7\n",
      "Enter the y distance here:  5\n",
      "Enter the node distance from eachother here:  2\n"
     ]
    },
    {
     "name": "stdout",
     "output_type": "stream",
     "text": [
      "The total number of nodes needed is  12\n"
     ]
    },
    {
     "data": {
      "image/png": "[encoded data removed]",
      "text/plain": [
       "<Figure size 432x288 with 1 Axes>"
      ]
     },
     "metadata": {
      "needs_background": "light"
     },
     "output_type": "display_data"
    }
   ],
   "source": [
    "import matplotlib.pyplot as plt\n",
    "\n",
    "def call_code():\n",
    "    \n",
    "    countx=0\n",
    "    county=0\n",
    "        \n",
    "    \n",
    "    def calc_num_nodes(x,y,d):\n",
    "        x1=(x//d)+1\n",
    "        y1=(y//d)+1\n",
    "        node=x1*y1\n",
    "        return node\n",
    "    xval=eval(input(\"Enter the x distance here: \"))\n",
    "    yval=eval(input(\"Enter the y distance here: \"))\n",
    "    dval=eval(input(\"Enter the node distance from eachother here: \"))\n",
    "\n",
    "    print(\"The total number of nodes needed is \",calc_num_nodes(xval,yval,dval))\n",
    "\n",
    "    xp = []\n",
    "    yp = []\n",
    "    \n",
    "    while countx <=xval:\n",
    "        while county<=yval:\n",
    "            xp.append(countx)\n",
    "            yp.append(county)\n",
    "            county+=1\n",
    "            plt.plot(xp, yp, color='black', linestyle='solid', linewidth = 2)\n",
    "        countx+=1\n",
    "        county=0\n",
    "        xp.clear()\n",
    "        yp.clear()\n",
    "\n",
    "    countx=0\n",
    "\n",
    "    while county <=yval:\n",
    "        while countx<=xval:\n",
    "            xp.append(countx)\n",
    "            yp.append(county)\n",
    "            plt.plot(xp, yp, color='black', linestyle='solid', linewidth = 2)\n",
    "            countx+=1\n",
    "        county+=1\n",
    "        countx=0\n",
    "        xp.clear()\n",
    "        yp.clear()\n",
    "        \n",
    "    county=0\n",
    "    \n",
    "    while countx <=xval:\n",
    "        while county<=yval:\n",
    "            xp.append(countx)\n",
    "            yp.append(county)\n",
    "            county+=dval\n",
    "            plt.plot(xp, yp, color='black', linestyle='solid', linewidth = 2, marker='o', markerfacecolor='gold', markersize=15)\n",
    "        countx+=dval\n",
    "        county=0\n",
    "        xp.clear()\n",
    "        yp.clear()\n",
    "\n",
    "    countx=0\n",
    "\n",
    "    while county <=yval:\n",
    "        while countx<=xval:\n",
    "            xp.append(countx)\n",
    "            yp.append(county)\n",
    "            plt.plot(xp, yp, color='black', linestyle='solid', linewidth = 2, marker='o', markerfacecolor='gold', markersize=15)\n",
    "            countx+=dval\n",
    "        county+=dval\n",
    "        countx=0\n",
    "        xp.clear()\n",
    "        yp.clear() \n",
    "\n",
    "    \n",
    "\n",
    "\n",
    "    plt.title('Nodes Output')\n",
    "\n",
    "    plt.xlabel('x')\n",
    "    plt.ylabel('y')\n",
    "\n",
    "\n",
    "    plt.ylim(-1,yval+1)\n",
    "    plt.xlim(-1,xval+1)\n",
    "\n",
    "    plt.show()\n",
    "    \n",
    "call_code()"
   ]
  },
  {
   "cell_type": "code",
   "execution_count": null,
   "id": "e1b8cc25",
   "metadata": {},
   "outputs": [],
   "source": []
  }
 ],
 "metadata": {
  "kernelspec": {
   "display_name": "summer_int",
   "language": "python",
   "name": "summer_int"
  },
  "language_info": {
   "codemirror_mode": {
    "name": "ipython",
    "version": 3
   },
   "file_extension": ".py",
   "mimetype": "text/x-python",
   "name": "python",
   "nbconvert_exporter": "python",
   "pygments_lexer": "ipython3",
   "version": "3.7.13"
  }
 },
 "nbformat": 4,
 "nbformat_minor": 5
}
