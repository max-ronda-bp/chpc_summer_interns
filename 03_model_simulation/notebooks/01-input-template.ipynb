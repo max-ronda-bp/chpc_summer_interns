{
 "cells": [
  {
   "cell_type": "markdown",
   "id": "eea03e87-45b2-44ab-8b00-c2972aec11b2",
   "metadata": {},
   "source": [
    "# 01 - Read Model Input Definition File\n",
    "----\n",
    "### Learning objectives:\n",
    "The goal of this section is to use a library called `hjson` to read up the `model_inputs_description.hjson`, which is a file under `var/`, and play around with the data format (`OrderedDict`) so you can build some intuition.\n",
    "\n",
    "**Note:** If you do not have `hjson` installed, you can run `pip install hjson`\n",
    "\n",
    "### Learning material:\n",
    "\n",
    "| Concepts                                                                         | Importance  | Note\n",
    "| -----------                                                                      | ----------- | ----------------- |\n",
    "| [Hjson](https://hjson.github.io/)                                                | Necessary   |                   |\n",
    "| [Link on OrderedDicts](https://www.geeksforgeeks.org/ordereddict-in-python/)     | Necessary   |                   |\n",
    "| [Using pip](https://packaging.python.org/en/latest/tutorials/installing-packages/) | Fun read | Ask TA's for help  |\n",
    "### Difficulty:\n",
    "Easy"
   ]
  },
  {
   "cell_type": "markdown",
   "id": "d7c11c85-e6fe-432e-b702-8ec31dc280ae",
   "metadata": {},
   "source": [
    "### Imports"
   ]
  },
  {
   "cell_type": "code",
   "execution_count": null,
   "id": "b1caad73-6e89-425d-baf7-b3f9418f2b56",
   "metadata": {},
   "outputs": [],
   "source": [
    "import hjson"
   ]
  },
  {
   "cell_type": "markdown",
   "id": "e298d3fb-c432-4d89-8921-1d09d07029c1",
   "metadata": {},
   "source": [
    "### Todo 1: Read `var/inputs_definition.hjson`"
   ]
  },
  {
   "cell_type": "code",
   "execution_count": null,
   "id": "ab81722b-63d2-45f1-a184-4a2fea8a9df0",
   "metadata": {},
   "outputs": [],
   "source": [
    "# code here\n",
    "f = open()"
   ]
  },
  {
   "cell_type": "markdown",
   "id": "aa89709e-e1cf-4563-8e64-fad5f12cb804",
   "metadata": {},
   "source": [
    "### Todo 2: Load what you read to `hsjon`"
   ]
  },
  {
   "cell_type": "code",
   "execution_count": null,
   "id": "e4edf6a2-188f-48df-8d9b-04db92e3be2a",
   "metadata": {},
   "outputs": [],
   "source": [
    "# code here\n",
    "inputs_template = hjson.load(f)"
   ]
  },
  {
   "cell_type": "markdown",
   "id": "4e81f418-6b49-4e44-88a2-a1fefc0fe39d",
   "metadata": {},
   "source": [
    "### Todo 3: print out what you loaded"
   ]
  },
  {
   "cell_type": "code",
   "execution_count": null,
   "id": "799959d9-8f5c-41d2-8178-41bc80cc377c",
   "metadata": {},
   "outputs": [],
   "source": [
    "# code here"
   ]
  },
  {
   "cell_type": "markdown",
   "id": "d17aa5a4-e783-4de4-bf9e-fbfe1c965f92",
   "metadata": {},
   "source": [
    "### Todo 4: Extra\n",
    "\n",
    "Make a copy of the `.hjson` file, modify it, and read it back to see how it works "
   ]
  },
  {
   "cell_type": "markdown",
   "id": "7ac0f6c8-1624-445c-884c-51dffb099507",
   "metadata": {},
   "source": [
    "## Controls:\n",
    "\n",
    "<div class=\"admonition alert alert-success\">\n",
    "    <p class=\"title\" style=\"font-weight:bold\">Previous: <a href=\"00-intro.ipynb\">Intro</a></p>\n",
    "         <p class=\"title\" style=\"font-weight:bold\">Next: <a href=\"02-model-inputs.ipynb\">Model Inputs</a></p>\n",
    "</div>"
   ]
  }
 ],
 "metadata": {
  "kernelspec": {
   "display_name": "intel-2021",
   "language": "python",
   "name": "conda-env-intel-2021-py"
  },
  "language_info": {
   "codemirror_mode": {
    "name": "ipython",
    "version": 3
   },
   "file_extension": ".py",
   "mimetype": "text/x-python",
   "name": "python",
   "nbconvert_exporter": "python",
   "pygments_lexer": "ipython3",
   "version": "3.8.12"
  }
 },
 "nbformat": 4,
 "nbformat_minor": 5
}
