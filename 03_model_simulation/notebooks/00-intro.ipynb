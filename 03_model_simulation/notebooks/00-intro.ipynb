{
 "cells": [
  {
   "cell_type": "markdown",
   "id": "69b059ad-dfa3-475e-96f1-524aaa6e9bdf",
   "metadata": {},
   "source": [
    "# 00 - Intro\n",
    "\n",
    "## Model Runner/Sampling Workflow\n",
    "----\n",
    "## Learning Objectives:\n",
    "- Build a sampling/simulation workflow\n",
    "- Learn how to interact with `.hjson` files\n",
    "- Learn how to interact with `OrderedDicts`\n",
    "- Learn about `Python classes/objects` \n",
    "- Learn how to read code base and implement new features\n",
    "- Learn how to write data to disk\n",
    "- Learn how to read data and visualize it\n",
    "- Learn how to optimize code \n",
    "\n",
    "\n",
    "## Prompt:\n",
    "A reservoir engineer (RE) has asked you to design software that can run their reservoir models through their in-house physics simulator. The RE will provide you with a template file that will contain the description of the inputs they are trying to pass through the `simulator` and they will like those inputs to be sampled according to the described distribution. The input file, `model_input_description.hjson`, contains the inputs that you will read in, create models, and lastly run them through the simulator. \n",
    "\n",
    "\n",
    "## Model Simulation Diagram\n",
    "\n",
    "<img src=\"../images/model_sim_diagram.PNG\" align=\"center\" max-width=\"200px\">\n",
    "\n",
    "\n",
    "At the end of this assignment, you should have a directory structure that will look something like this:\n",
    "\n",
    "\n",
    "```python\n",
    "/username/your_local_directory/models\n",
    "├── models\n",
    "│   ├── model_0\n",
    "│   │   ├── model_inputs.csv\n",
    "│   │   ├── mq.value\n",
    "│   ├── model_1\n",
    "│   │   ├── model_inputs.csv\n",
    "│   │   ├── mq.value\n",
    "│   ├── model_2\n",
    "│   │   ├── model_inputs.csv\n",
    "│   │   ├── mq.value\n",
    "│   ├── model_n\n",
    "│   │   ├── model_inputs.csv\n",
    "│   │   ├── mq.value\n",
    "```\n",
    "\n",
    "\n",
    "Bonus: In the later part of this workflow, you will show how you can collect the `inputs/outputs` and visualize them in this notebook (extra credit?)"
   ]
  },
  {
   "cell_type": "markdown",
   "id": "14206595-7e77-4838-9ecd-2b8b5cc47e00",
   "metadata": {},
   "source": [
    "## Controls:\n",
    "\n",
    "<div class=\"admonition alert alert-success\">\n",
    "         <p class=\"title\" style=\"font-weight:bold\">Next: <a href=\"01-input-template.ipynb\">Inputs Template</a></p>\n",
    "</div>"
   ]
  },
  {
   "cell_type": "code",
   "execution_count": null,
   "id": "677c855f-f22f-4090-81a7-a07978ca70db",
   "metadata": {},
   "outputs": [],
   "source": []
  }
 ],
 "metadata": {
  "kernelspec": {
   "display_name": "summer_int",
   "language": "python",
   "name": "summer_int"
  },
  "language_info": {
   "codemirror_mode": {
    "name": "ipython",
    "version": 3
   },
   "file_extension": ".py",
   "mimetype": "text/x-python",
   "name": "python",
   "nbconvert_exporter": "python",
   "pygments_lexer": "ipython3",
   "version": "3.7.13"
  },
  "toc-autonumbering": false,
  "toc-showmarkdowntxt": false
 },
 "nbformat": 4,
 "nbformat_minor": 5
}
