{
 "cells": [
  {
   "cell_type": "markdown",
   "id": "7789291d-d363-439f-9dbb-e877fe62478c",
   "metadata": {},
   "source": [
    "# 02 - Model inputs\n",
    "----\n",
    "\n",
    "The framework has two built-in data types that you will use to initialize the `Model` inputs. Those are the `Uniform` type and `Discrete` type. The next couple of cells will show you how to interact with those two objects. \n",
    "\n",
    "The `goal` of this section is pretty simple: **Play with the two data structures**, `Uniform` and `Discrete`, build a notion on how to interact with the class and see how you can alter it by changing some parameters. Check-out the **learning material** for more help or reach out to one of the TAs.\n",
    "\n",
    "### Learning material:\n",
    "\n",
    "| Concepts                                                                         | Importance            |\n",
    "| -----------                                                                      | -----------           |\n",
    "| [Python classes](https://www.w3schools.com/python/python_classes.asp)            | Basic understanding   |\n",
    "| [Intro to numpy](https://www.w3schools.com/python/numpy/numpy_intro.asp)         | Basic understanding  |\n",
    "| [Numpy uniform()](https://www.geeksforgeeks.org/numpy-random-uniform-in-python/) | Basic understanding  |\n",
    "| [Numpy choice()](https://www.geeksforgeeks.org/numpy-random-choice-in-python/)   | Basic understanding  |\n",
    "\n",
    "### Difficulty:\n",
    "Easy "
   ]
  },
  {
   "cell_type": "markdown",
   "id": "2add9f00-20d0-45e9-9b62-bae8bdc5da0e",
   "metadata": {},
   "source": [
    "### Imports"
   ]
  },
  {
   "cell_type": "code",
   "execution_count": null,
   "id": "cfd4603b-7674-4fc5-a09c-7d6486c4ff36",
   "metadata": {},
   "outputs": [],
   "source": [
    "import sys \n",
    "sys.path.append(\"..\") # to import one directory up\n",
    "from src.types import Uniform, Discrete"
   ]
  },
  {
   "cell_type": "markdown",
   "id": "aa255408-7441-42e6-b437-064b3dc88572",
   "metadata": {},
   "source": [
    "Lets play with some of these classes"
   ]
  },
  {
   "cell_type": "markdown",
   "id": "28e74e75-b561-4ab9-8e03-e15fbce7d1c4",
   "metadata": {},
   "source": [
    "### Uniform\n",
    "Let's look at this example on how to initialize the `Uniform` class and view the properties within the class. "
   ]
  },
  {
   "cell_type": "code",
   "execution_count": 3,
   "id": "8bac56c5-c1dc-4208-8852-37921286ebf8",
   "metadata": {},
   "outputs": [
    {
     "name": "stdout",
     "output_type": "stream",
     "text": [
      "foo:3.7705830713173665\n",
      "foo\n",
      "1\n",
      "10\n",
      "3.7705830713173665\n"
     ]
    }
   ],
   "source": [
    "import sys \n",
    "sys.path.append(\"..\") # to import one directory up\n",
    "from src.types import Uniform, Discrete\n",
    "foo = Uniform(variable_name=\"foo\", min_value=1, max_value=10)\n",
    "print(foo)\n",
    "print(foo.variable_name)\n",
    "print(foo.min_value)\n",
    "print(foo.max_value)\n",
    "print(foo.value)"
   ]
  },
  {
   "cell_type": "markdown",
   "id": "13eab2e0-712d-4b22-ab45-7fa8d096feed",
   "metadata": {},
   "source": [
    "### Discrete\n",
    "\n",
    "Let's now look at the Discrete class and open its properties"
   ]
  },
  {
   "cell_type": "code",
   "execution_count": 19,
   "id": "fa118455-3c33-4adb-98ec-c763f7882633",
   "metadata": {},
   "outputs": [
    {
     "name": "stdout",
     "output_type": "stream",
     "text": [
      "bar:bus\n",
      "bar\n",
      "['car', 'bus', 'taxi', 'bike']\n",
      "bus\n"
     ]
    }
   ],
   "source": [
    "import sys \n",
    "sys.path.append(\"..\") # to import one directory up\n",
    "from src.types import Uniform, Discrete\n",
    "bar = Discrete(variable_name=\"bar\", choices=[\"car\", \"bus\", \"taxi\", \"bike\"])\n",
    "print(bar)\n",
    "print(bar.variable_name)\n",
    "print(bar.choices)\n",
    "print(bar.value)"
   ]
  },
  {
   "cell_type": "markdown",
   "id": "480b827d-175c-465d-ad1d-c9d03211e179",
   "metadata": {},
   "source": [
    "### Todo 1: \n",
    "Initialize the two classses, `Discrete` and `Uniform`, with some data of your own. This excercise serves to build intution on how to access class attributes"
   ]
  },
  {
   "cell_type": "code",
   "execution_count": 27,
   "id": "402c5cdb-8930-44f7-8171-04b745fb49ca",
   "metadata": {},
   "outputs": [
    {
     "name": "stdout",
     "output_type": "stream",
     "text": [
      "11.241632345682634\n",
      "ship\n"
     ]
    }
   ],
   "source": [
    "import sys \n",
    "sys.path.append(\"..\") # to import one directory up\n",
    "from src.types import Uniform, Discrete\n",
    "foo = Uniform(variable_name='foo', min_value=7, max_value=34)\n",
    "bar = Discrete(variable_name='bar', choices=['train', 'plane', 'ship'])\n",
    "print(foo.value)\n",
    "print(bar.value)"
   ]
  },
  {
   "cell_type": "markdown",
   "id": "4af6dada-f64a-4f14-9303-412601e16cf4",
   "metadata": {},
   "source": [
    "## Controls:\n",
    "\n",
    "<div class=\"admonition alert alert-success\">\n",
    "    <p class=\"title\" style=\"font-weight:bold\">Previous: <a href=\"01-input-template.ipynb\">Input template</a></p>\n",
    "         <p class=\"title\" style=\"font-weight:bold\">Next: <a href=\"03-create-model.ipynb\">Create a model</a></p>\n",
    "</div>"
   ]
  }
 ],
 "metadata": {
  "kernelspec": {
   "display_name": "summer_int",
   "language": "python",
   "name": "summer_int"
  },
  "language_info": {
   "codemirror_mode": {
    "name": "ipython",
    "version": 3
   },
   "file_extension": ".py",
   "mimetype": "text/x-python",
   "name": "python",
   "nbconvert_exporter": "python",
   "pygments_lexer": "ipython3",
   "version": "3.7.13"
  }
 },
 "nbformat": 4,
 "nbformat_minor": 5
}
