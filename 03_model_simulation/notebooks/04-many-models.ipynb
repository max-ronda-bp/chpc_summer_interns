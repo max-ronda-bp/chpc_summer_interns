{
 "cells": [
  {
   "cell_type": "markdown",
   "id": "d9c0cf0b-e01d-4fe1-9f01-cf746965681e",
   "metadata": {},
   "source": [
    "# 04 - Create many models \n",
    "---\n",
    "A single model works well at generating a picture of what could happen in some near future but it is not a good representation of all the possible outcomes that could happen. For this reason, scientists tend to build multiple models, or an [ensemble of models](https://www.sciencedirect.com/topics/computer-science/ensemble-modeling), to paint a better picture of future outcomes. An **ensemble of models** is essentially a collection of many models that are well calibrated to all your data but predict different outcomes given your constraints. The motivation to use an ensemble of models is to reduce the generalization error of prediction. Basically, the more models you have, the more stories you have of the subsfurace, the the less likely you are at making an erroneous prediction. This method, of working with ensembles, is not only used by REs but by many practicing scientists. \n",
    "\n",
    "The goal of this section is to be able to build from previous notebooks and create a **list of models** that we can use to pass through our **Simulator** code. \n",
    "\n",
    "There are a couple of todos here but look into implementing the function `create_n_models()`, given the input_templat and n_models (an integer).\n",
    "\n",
    "\n",
    "### Difficulty:\n",
    "Medium - given you have `03-create-model` done :) "
   ]
  },
  {
   "cell_type": "code",
   "execution_count": 1,
   "id": "712ea886-d066-4a72-b2f2-7233ae4e3681",
   "metadata": {},
   "outputs": [
    {
     "ename": "IndentationError",
     "evalue": "unindent does not match any outer indentation level (core.py, line 86)",
     "output_type": "error",
     "traceback": [
      "Traceback \u001b[0;36m(most recent call last)\u001b[0m:\n",
      "  File \u001b[1;32m\"/Users/ryanskinner/opt/miniconda3/envs/summer_int/lib/python3.7/site-packages/IPython/core/interactiveshell.py\"\u001b[0m, line \u001b[1;32m3552\u001b[0m, in \u001b[1;35mrun_code\u001b[0m\n    exec(code_obj, self.user_global_ns, self.user_ns)\n",
      "\u001b[0;36m  File \u001b[0;32m\"<ipython-input-1-8617e66eb995>\"\u001b[0;36m, line \u001b[0;32m6\u001b[0;36m, in \u001b[0;35m<module>\u001b[0;36m\u001b[0m\n\u001b[0;31m    from src.core import Model\u001b[0m\n",
      "\u001b[0;36m  File \u001b[0;32m\"../src/core.py\"\u001b[0;36m, line \u001b[0;32m86\u001b[0m\n\u001b[0;31m    model_inputs.append(model_input)\u001b[0m\n\u001b[0m                                    ^\u001b[0m\n\u001b[0;31mIndentationError\u001b[0m\u001b[0;31m:\u001b[0m unindent does not match any outer indentation level\n"
     ]
    }
   ],
   "source": [
    "%load_ext autoreload\n",
    "%autoreload 2\n",
    "import hjson\n",
    "import sys \n",
    "sys.path.append(\"..\") # to import one directory up\n",
    "from src.core import Model"
   ]
  },
  {
   "cell_type": "markdown",
   "id": "5c01f534-be3a-41f8-838a-11f9c574ff17",
   "metadata": {},
   "source": [
    "### Todo 1: Create list of Models\n",
    "\n",
    "Using code from previous notebook, `03-create-model.ipynb`, either copying it over or creating a function inside a `.py` file, use that to create many models, given `n_models`."
   ]
  },
  {
   "cell_type": "markdown",
   "id": "b49f78d5-6f9c-42a3-bb72-31b8057e5114",
   "metadata": {},
   "source": [
    "**Todo 1.1: Add code to read .hsjon input file into variable `inputs_template`**"
   ]
  },
  {
   "cell_type": "code",
   "execution_count": null,
   "id": "4ec761f1-e0e4-43cc-9e27-3a06e22bc178",
   "metadata": {},
   "outputs": [],
   "source": [
    "# Add code here from previous section to read inputes_template "
   ]
  },
  {
   "cell_type": "markdown",
   "id": "c3ffb785-3b81-4a28-a855-f1dbde4544da",
   "metadata": {},
   "source": [
    "**Todo 1.2: Implement function `create_n_models()`**"
   ]
  },
  {
   "cell_type": "code",
   "execution_count": 14,
   "id": "389b28f0-8b41-4470-8cae-c0607d358744",
   "metadata": {},
   "outputs": [],
   "source": [
    "def create_n_models(inputs_template, n_models):\n",
    "    \"\"\"Function creates n_models given an inputs_template OrderDict. \n",
    "    \n",
    "    Todo: Implement function so that you can create a list of Model()'s\n",
    "    and return it\n",
    "    \n",
    "    Parameters\n",
    "    ----------\n",
    "        inputs_template: OrderedDict\n",
    "            inputs_template from reading hjson code\n",
    "        n_models : int \n",
    "            For example, we want 10 models, n_models=10\n",
    "            \n",
    "    Returns\n",
    "    -------\n",
    "        models: list\n",
    "            A list of many Model() objects\n",
    "    \"\"\"\n",
    "    models = []    \n",
    "    for model in range(n_models):\n",
    "        # add code here \n",
    "        # Create a model\n",
    "        # call .generate\n",
    "        # add to list \n",
    "        model = Model(inputs_template)\n",
    "        model.generate()\n",
    "        models.append(model)\n",
    "    return models"
   ]
  },
  {
   "cell_type": "code",
   "execution_count": 17,
   "id": "38ad3d0f-976c-4623-b9fd-e619dceba167",
   "metadata": {},
   "outputs": [
    {
     "name": "stdout",
     "output_type": "stream",
     "text": [
      "[PERM:1991.0579133108213, PORO:0.1429075765254544, AQ_SIZE:26.776278445235334, CHAN:many]\n",
      "[PERM:1307.906731621775, PORO:0.13339773471723837, AQ_SIZE:41.34788078213365, CHAN:many]\n",
      "[PERM:1829.2640564699102, PORO:0.16287242996946388, AQ_SIZE:29.275779044199666, CHAN:many]\n",
      "[PERM:1867.4575387115701, PORO:0.138122678455727, AQ_SIZE:34.836896050322764, CHAN:many]\n",
      "[PERM:1840.0187163346648, PORO:0.2425584425203301, AQ_SIZE:22.111519292267396, CHAN:many]\n",
      "[PERM:1867.557940589204, PORO:0.20462457083602914, AQ_SIZE:6.034187810632863, CHAN:many]\n",
      "[PERM:760.0715770847579, PORO:0.20863837953767023, AQ_SIZE:13.504383325836764, CHAN:some]\n",
      "[PERM:1101.9235329031153, PORO:0.15500466805298152, AQ_SIZE:6.850321835788799, CHAN:few]\n",
      "[PERM:1928.1176429123914, PORO:0.23486539741303997, AQ_SIZE:30.747212295351975, CHAN:few]\n",
      "[PERM:1099.8540502136525, PORO:0.18109028227990803, AQ_SIZE:12.027120067136014, CHAN:some]\n"
     ]
    }
   ],
   "source": [
    "# Run here \n",
    "import hjson\n",
    "%reload_ext autoreload\n",
    "%autoreload 2\n",
    "import sys\n",
    "sys.path.append(\"..\") # to import one directory up\n",
    "from src.core import Model\n",
    "from src.types import Uniform, Discrete\n",
    "\n",
    "f = open('/Users/ryanskinner/chpc_summer_interns/03_model_simulation/var/model_input_description.hjson','r')\n",
    "\n",
    "inputs_template = hjson.load(f)\n",
    "n_models = 10 # you can play with this number\n",
    "models = create_n_models(inputs_template=inputs_template, n_models=n_models)\n",
    "for model in models:\n",
    "    print(model)"
   ]
  },
  {
   "cell_type": "code",
   "execution_count": null,
   "id": "d1681dbc-680e-4cbf-ab77-7a79a84d2303",
   "metadata": {},
   "outputs": [],
   "source": [
    "print(models)"
   ]
  },
  {
   "cell_type": "markdown",
   "id": "0044b410-b515-4c4f-a079-639ee28fb7b4",
   "metadata": {},
   "source": [
    "## Controls:\n",
    "\n",
    "<div class=\"admonition alert alert-success\">\n",
    "    <p class=\"title\" style=\"font-weight:bold\">Previous: <a href=\"./03-create-model.ipynb\">Create model</a></p>\n",
    "    <p class=\"title\" style=\"font-weight:bold\">Next: <a href=\"./05-write-model-inputs.ipynb\">Write model inputs</a></p>\n",
    "</div>"
   ]
  }
 ],
 "metadata": {
  "kernelspec": {
   "display_name": "summer_int",
   "language": "python",
   "name": "summer_int"
  },
  "language_info": {
   "codemirror_mode": {
    "name": "ipython",
    "version": 3
   },
   "file_extension": ".py",
   "mimetype": "text/x-python",
   "name": "python",
   "nbconvert_exporter": "python",
   "pygments_lexer": "ipython3",
   "version": "3.7.13"
  }
 },
 "nbformat": 4,
 "nbformat_minor": 5
}
