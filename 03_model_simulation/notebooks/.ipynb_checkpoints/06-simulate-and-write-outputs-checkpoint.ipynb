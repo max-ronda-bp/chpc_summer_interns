{
 "cells": [
  {
   "cell_type": "markdown",
   "id": "d28f2c72-ca6c-4557-8a23-895066acfddb",
   "metadata": {},
   "source": [
    "# 06 - Simulate and Write Outputs\n",
    "\n",
    "### Learning objectives:\n",
    "\n",
    "The goal of this section is to use `Simulator` code under `/src/core.py` to simulate a match quality component, a value measuring how good the model is, and be able to write that value back to disk. You will be implement three functions here: `run_simulation()`, `write_mq_value()`, and `run()`. \n",
    "\n",
    "### End result should look something like this:\n",
    "\n",
    "```python\n",
    "/username/your_local_directory/models\n",
    "├── models\n",
    "│   ├── model_0\n",
    "│   │   ├── model_inputs.csv\n",
    "│   │   ├── mq.value\n",
    "│   ├── model_1\n",
    "│   │   ├── model_inputs.csv\n",
    "│   │   ├── mq.value\n",
    "│   ├── model_2\n",
    "│   │   ├── model_inputs.csv\n",
    "│   │   ├── mq.value\n",
    "│   ├── model_n\n",
    "│   │   ├── model_inputs.csv\n",
    "│   │   ├── mq.value\n",
    "```"
   ]
  },
  {
   "cell_type": "markdown",
   "id": "d300bbbf-f08f-4bab-88e8-75b9444ba95d",
   "metadata": {},
   "source": [
    "### Within model top_directory:\n",
    "\n",
    "This show the view with models_top_directory where you can see all models stored\n",
    "\n",
    "<img src=\"../images/models_folder_structure_01.PNG\" style=\"border: 1px solid black\" align=\"left\" width=\"400px\">"
   ]
  },
  {
   "cell_type": "markdown",
   "id": "745bd415-a67f-4796-a544-a9a8e06dc7a8",
   "metadata": {},
   "source": [
    "### Within a model directory:\n",
    "\n",
    "This view shows what each models folder looks like hosting both inputs and output files for model\n",
    "\n",
    "<img src=\"../images/models_folder_structure_03.PNG\" style=\"border: 1px solid black\" align=\"left\" width=\"400px\">"
   ]
  },
  {
   "cell_type": "markdown",
   "id": "67ba610e-afd0-4ce0-bf2f-959b6ac545e8",
   "metadata": {},
   "source": [
    "### Difficulty:\n",
    "Medium - given you have previous steps completed "
   ]
  },
  {
   "cell_type": "markdown",
   "id": "7bbac9f0-5d13-4fea-aa55-c54a387ac2d3",
   "metadata": {},
   "source": [
    "### Imports"
   ]
  },
  {
   "cell_type": "code",
   "execution_count": null,
   "id": "6dd34c7b-f85a-415b-a9a8-c650175e65c9",
   "metadata": {},
   "outputs": [],
   "source": [
    "%load_ext autoreload\n",
    "%autoreload 2\n",
    "import hjson\n",
    "import os\n",
    "import sys\n",
    "sys.path.append(\"..\") # to import one directory up\n",
    "from src.core import Model, Simulator\n",
    "from src.helper import create_directory"
   ]
  },
  {
   "cell_type": "markdown",
   "id": "777bca56-07e7-49ba-b941-2fdfb139b4e3",
   "metadata": {},
   "source": [
    "### Code"
   ]
  },
  {
   "cell_type": "markdown",
   "id": "98eda92b-a713-450c-9585-e3094009148b",
   "metadata": {},
   "source": [
    "### Todo 1: Import Code from `04-many-models.ipynb` that allows you to create many models. Same code you used on previous notebook as well"
   ]
  },
  {
   "cell_type": "code",
   "execution_count": null,
   "id": "d3012763-e248-428c-a8f7-da25d4be602c",
   "metadata": {},
   "outputs": [],
   "source": [
    "# Add code to read into inputs_template (previous section 01-input-template)\n",
    "\n",
    "# Add code to create n_models (previous section 04-many-models)"
   ]
  },
  {
   "cell_type": "markdown",
   "id": "860035e1-9a01-4790-bedd-a17a6ecc32ba",
   "metadata": {},
   "source": [
    "### Todo 2-3: Finish implementation\n",
    "\n",
    "Finish the implementation of `run_simulation()` and `write_mq_value()`. The function `write_model_outputs_to_disk()` uses those. "
   ]
  },
  {
   "cell_type": "code",
   "execution_count": null,
   "id": "0ac8ed1d-0d3b-4e35-98f8-bba76df91d02",
   "metadata": {},
   "outputs": [],
   "source": [
    "# TODO 1\n",
    "def run_simulation(model):\n",
    "    \"\"\"This function will take in a `model` object, pass its inputs to the `simulator`\n",
    "    and generate back an `mq` value. This function returns that `mq_value` which you will\n",
    "    use to write to a file\n",
    "    \n",
    "    Parameters\n",
    "    ----------\n",
    "        model : Model object\n",
    "    Returns\n",
    "    -------\n",
    "        mq_value : float\n",
    "    \"\"\"\n",
    "    # TODO: Pass a model through Simulator and get back an mq_value\n",
    "    simulator = Simulator()\n",
    "    # TODO: Run simulate here given model object\n",
    "    # Hint: Look into Simulator code.\n",
    "    mq_value = # get mq_value from simulator\n",
    "    return mq_value\n",
    "\n",
    "# TODO 2\n",
    "def write_mq_value(model_directory, mq_value):\n",
    "    \"\"\"This takes in an mq_value from each model and writes it\n",
    "    to the models directory under a file called `mq.value`\n",
    "    \n",
    "    Parameters\n",
    "    ----------\n",
    "        model_path : str.\n",
    "            Path to where model_ directory sits\n",
    "        mq_value: float\n",
    "    \"\"\"\n",
    "    # TODO: Write mq values to a file called mq.value\n",
    "    model_directory = os.path.join(model_directory, \"mq.value\")\n",
    "    # TODO: Look at how to write mq_value to a file named mq.value given above.\n",
    "    # Hint: Look into file writing \n",
    "    \n",
    "def write_model_outputs_to_disk(models, top_directory):\n",
    "    \"\"\"Function writes model output to disk in a file called mq.value\n",
    "    \"\"\"\n",
    "    for i, model in enumerate(models):\n",
    "        \n",
    "        # Helper code. This creates a model directory if not exists\n",
    "        model_directory = os.path.join(top_directory, \"model_\" + str(i))\n",
    "        create_directory(model_directory)\n",
    "        \n",
    "        # TODO 1\n",
    "        mq_value = run_simulation(model)\n",
    "        \n",
    "        # TODO 2\n",
    "        write_mq_value(model_directory, mq_value)\n",
    "        \n",
    "def main(top_directory_name, models):\n",
    "    \"\"\"Main function to run `write_model_outputs_to_disk`\n",
    "    \n",
    "    Parameters\n",
    "    ----------\n",
    "        top_directory_name: str\n",
    "            The name given to your top_directory where models will sit \n",
    "        models: list of Model()'s\n",
    "    \"\"\"\n",
    "    # Create top_directory\n",
    "    top_directory = os.path.join(os.getcwd(), top_directory_name)\n",
    "    create_directory(top_directory)\n",
    "    \n",
    "    # Run function\n",
    "    write_model_outputs_to_disk(models=models, top_directory=top_directory)"
   ]
  },
  {
   "cell_type": "markdown",
   "id": "cc589da8-cc37-4dab-b7ec-223ff9132498",
   "metadata": {
    "tags": []
   },
   "source": [
    "### Run `main()`\n",
    "\n",
    "`main()` wraps creating a `top_directory` and calling your `write_model_outputs_to_disk()`"
   ]
  },
  {
   "cell_type": "code",
   "execution_count": null,
   "id": "045c31ab-c5ec-4111-9ce0-8af2ccde6643",
   "metadata": {},
   "outputs": [],
   "source": [
    "main(top_directory_name=\"models_top_directory\", models=models)"
   ]
  },
  {
   "cell_type": "markdown",
   "id": "3cf468aa-21ae-4b11-a183-d0fb6bfce4f7",
   "metadata": {},
   "source": [
    "## Controls:\n",
    "\n",
    "<div class=\"admonition alert alert-success\">\n",
    "    <p class=\"title\" style=\"font-weight:bold\">Previous: <a href=\"05-write-model-inputs.ipynb\">Write model inputs</a></p>\n",
    "    <p class=\"title\" style=\"font-weight:bold\">Next: <a href=\"07-read-inputs-outputs_bonus.ipynb\">Bonus: Read Model Inputs and Outputs</a></p>\n",
    "</div>"
   ]
  }
 ],
 "metadata": {
  "kernelspec": {
   "display_name": "intel-2021",
   "language": "python",
   "name": "conda-env-intel-2021-py"
  },
  "language_info": {
   "codemirror_mode": {
    "name": "ipython",
    "version": 3
   },
   "file_extension": ".py",
   "mimetype": "text/x-python",
   "name": "python",
   "nbconvert_exporter": "python",
   "pygments_lexer": "ipython3",
   "version": "3.8.12"
  }
 },
 "nbformat": 4,
 "nbformat_minor": 5
}
