{
 "cells": [
  {
   "cell_type": "markdown",
   "id": "e9e463ad-6abf-4796-a293-d0ad4c927669",
   "metadata": {},
   "source": [
    "# 05 - Write Model Inputs\n",
    "---\n",
    "### Learning objectives:\n",
    "\n",
    "The objective of this section is to take the work you did in `04-many-models.ipynb`, where you created inputs for multiple models, but now you want to write those inputs back to disk. The goal here is to complete the implementation of `write_model_inputs_to_disk()`. You will pass your list of models, iterate through each, extract a pandas dataframe using `model.get_inputs_as_df()`, and writing that `Dataframe` to disk. \n",
    "\n",
    "A lot of the code has been written so you'll need to implement the last step to write the `Dataframe` as `.csv` \n",
    " \n",
    "\n",
    "### Learning Material:\n",
    "\n",
    "| Concepts                                                                                     | Importance  |\n",
    "| -----------                                                                                  | ----------- |\n",
    "| [Python file write](https://www.w3schools.com/python/python_file_write.asp)                  | Basic understanding |\n",
    "| [Python write csv](https://www.pythontutorial.net/python-basics/python-write-csv-file/)      | Basic understanding |\n",
    "| [Pandas dataframe to CSV](https://pandas.pydata.org/docs/reference/api/pandas.DataFrame.to_csv.html)  | Basic understanding |\n",
    "| [Python create directories](https://www.geeksforgeeks.org/create-a-directory-in-python/)     | Basic understanding |\n",
    "\n",
    "### End result should look like:\n",
    "\n",
    "**Folder structure:** \n",
    "\n",
    "```python\n",
    "/username/your_local_directory/models\n",
    "├── models\n",
    "│   ├── model_0\n",
    "│   │   ├── model_inputs.csv\n",
    "│   ├── model_1\n",
    "│   │   ├── model_inputs.csv\n",
    "│   ├── model_2\n",
    "│   │   ├── model_inputs.csv\n",
    "│   ├── model_n\n",
    "│   │   ├── model_inputs.csv\n",
    "```"
   ]
  },
  {
   "cell_type": "markdown",
   "id": "8423058d-6274-41bb-a272-974f576562e1",
   "metadata": {},
   "source": [
    "### Within model top_directory:\n",
    "\n",
    "This show the view with models_top_directory where you can see all models stored\n",
    "\n",
    "<img src=\"../images/models_folder_structure_01.PNG\" style=\"border: 1px solid black\" align=\"left\" width=\"400px\">"
   ]
  },
  {
   "cell_type": "markdown",
   "id": "f17094bf-051c-4324-9405-d690f866997a",
   "metadata": {},
   "source": [
    "### Within a model directory:\n",
    "\n",
    "This view shows what each models folder looks like hosting an inputs file as a `.csv` file\n",
    "\n",
    "<img src=\"../images/models_folder_structure_02.PNG\" style=\"border: 1px solid black\" align=\"left\" width=\"400px\">"
   ]
  },
  {
   "cell_type": "markdown",
   "id": "07666acd-8c7c-4b9e-b7b9-1c15fea544e6",
   "metadata": {},
   "source": [
    "### Difficulty:\n",
    "Medium - given you have `04-many-models` done :) "
   ]
  },
  {
   "cell_type": "markdown",
   "id": "2a5ad4ee-4c34-47d9-b787-d971b19e0306",
   "metadata": {},
   "source": [
    "### Imports"
   ]
  },
  {
   "cell_type": "code",
   "execution_count": 2,
   "id": "58cadb76-2d13-41a4-9d5b-b0426a42c96c",
   "metadata": {},
   "outputs": [
    {
     "name": "stdout",
     "output_type": "stream",
     "text": [
      "The autoreload extension is already loaded. To reload it, use:\n",
      "  %reload_ext autoreload\n"
     ]
    }
   ],
   "source": [
    "%load_ext autoreload\n",
    "%autoreload 2\n",
    "import hjson\n",
    "import os\n",
    "import sys \n",
    "sys.path.append(\"..\") # to import one directory up\n",
    "from src.core import Model\n",
    "from src.helper import create_directory"
   ]
  },
  {
   "cell_type": "markdown",
   "id": "98883e06-bc66-4899-b7dc-50eaa71f64b9",
   "metadata": {},
   "source": [
    "### Todo 1: Import Code from `04-many-models.ipynb` that allows you to create many models"
   ]
  },
  {
   "cell_type": "code",
   "execution_count": 13,
   "id": "3607b311-3b40-481e-a74b-9525be5d3388",
   "metadata": {},
   "outputs": [
    {
     "name": "stdout",
     "output_type": "stream",
     "text": [
      "[PERM:1944.2156591891824, PORO:0.16810961684165493, AQ_SIZE:33.68467908225687, CHAN:many]\n",
      "[PERM:1484.9091859676714, PORO:0.1906845340202269, AQ_SIZE:0.7878140534079578, CHAN:some]\n",
      "[PERM:1462.084513843908, PORO:0.18994495017291113, AQ_SIZE:32.61307740599849, CHAN:many]\n",
      "[PERM:1762.0794160639743, PORO:0.1897648884940814, AQ_SIZE:16.48934346818413, CHAN:some]\n",
      "[PERM:864.6713199962708, PORO:0.24846669748691677, AQ_SIZE:17.755677281127166, CHAN:many]\n",
      "[PERM:1007.2249235781621, PORO:0.1824096107530448, AQ_SIZE:32.114701726421245, CHAN:some]\n",
      "[PERM:1870.8764606483135, PORO:0.16062021408104793, AQ_SIZE:20.001168491198925, CHAN:some]\n",
      "[PERM:675.1021081463964, PORO:0.21636638916895098, AQ_SIZE:12.633162793151904, CHAN:some]\n",
      "[PERM:628.6930148521363, PORO:0.16538934487895246, AQ_SIZE:42.76925522615407, CHAN:many]\n",
      "[PERM:2376.212435549468, PORO:0.2227538813247536, AQ_SIZE:42.456226457078685, CHAN:many]\n"
     ]
    }
   ],
   "source": [
    "# Add code to read into inputs_template (previous section 01-input-template)\n",
    "\n",
    "# Add code to create n_models (previous section 04-many-models)\n",
    "\n",
    "import hjson\n",
    "%reload_ext autoreload\n",
    "%autoreload 2\n",
    "import sys\n",
    "sys.path.append(\"..\") # to import one directory up\n",
    "from src.core import Model\n",
    "from src.types import Uniform, Discrete\n",
    "\n",
    "def create_n_models(inputs_template, n_models):\n",
    "    models = []    \n",
    "    for model in range(n_models):\n",
    "        # add code here \n",
    "        # Create a model\n",
    "        # call .generate\n",
    "        # add to list \n",
    "        model = Model(inputs_template)\n",
    "        model.generate()\n",
    "        models.append(model)\n",
    "    return models\n",
    "\n",
    "f = open('/Users/ryanskinner/chpc_summer_interns/03_model_simulation/var/model_input_description.hjson','r')\n",
    "\n",
    "inputs_template = hjson.load(f)\n",
    "\n",
    "#model = Model(inputs_template)\n",
    "#model.generate()\n",
    "#print(model.inputs)\n",
    "\n",
    "n_models = 10\n",
    "models = create_n_models(inputs_template=inputs_template, n_models=n_models)\n",
    "for model in models:\n",
    "    print(model)"
   ]
  },
  {
   "cell_type": "markdown",
   "id": "3aae04d2-bfe1-4109-8fd7-99e529988f69",
   "metadata": {},
   "source": [
    "### Todo 2: Finish the implementation\n",
    "\n",
    "Finish implementing of `write_input()`, which is a function used by `write_model_inputs_to_disk()`. You will need to pass the inputs as a `DataFrame` and store it back into a `.csv` file"
   ]
  },
  {
   "cell_type": "code",
   "execution_count": 24,
   "id": "bea8fcbe-4d72-447b-b2a5-144e2c1a860b",
   "metadata": {},
   "outputs": [],
   "source": [
    "# TODO 2\n",
    "%reload_ext autoreload\n",
    "%autoreload 2\n",
    "import hjson\n",
    "import os\n",
    "import sys \n",
    "sys.path.append(\"..\") # to import one directory up\n",
    "from src.core import Model\n",
    "from src.helper import create_directory\n",
    "\n",
    "def write_input(model_directory, model_inputs):\n",
    "    \"\"\"Function writes model_inputs, a Dataframe, back to a .csv under a file name model_n.csv\n",
    "    \n",
    "    Parameters\n",
    "    ---------\n",
    "        model_directory : str\n",
    "            Path where model will sit \n",
    "        model_inputs : Dataframe\n",
    "            Model inputs as dataframe\n",
    "    \"\"\"\n",
    "    # Add code here to save models inputs to .csv\n",
    "    \n",
    "    name_of_file = os.path.join(model_directory, \"model_input.csv\")\n",
    "    model_inputs.to_csv(name_of_file)\n",
    "    \n",
    "def write_model_inputs_to_disk(models, top_directory):\n",
    "    \"\"\"\n",
    "    Todo: Complete the implementation of this function. Look at where the code\n",
    "    gets the Dataframe (model.get_inputs_as_df()) and use that Dataframe to disk. \n",
    "    \"\"\"\n",
    "    for i, model in enumerate(models):\n",
    "        \n",
    "        # Creates a model directory within top_directory\n",
    "        model_directory = os.path.join(top_directory, \"model_\" + str(i))\n",
    "        create_directory(model_directory)\n",
    "        \n",
    "        # Gets model inputs as a dataframe\n",
    "        model_inputs = model.get_inputs_as_df()\n",
    "        \n",
    "        # TODO 2\n",
    "        write_input(model_directory, model_inputs)\n",
    "        \n",
    "def main(top_directory_name, models):\n",
    "    \"\"\"Main function to run `write_model_inputs_to_disk`\n",
    "    \n",
    "    Parameters\n",
    "    ----------\n",
    "        top_directory_name: str\n",
    "            The name given to your top_directory where models will sit \n",
    "        models: list of Model()'s\n",
    "    \"\"\"\n",
    "    top_directory = os.path.join(os.getcwd(), top_directory_name)\n",
    "    create_directory(top_directory)\n",
    "    \n",
    "    # Run function \n",
    "    write_model_inputs_to_disk(models=models, top_directory=top_directory)"
   ]
  },
  {
   "cell_type": "markdown",
   "id": "83fced0b-0fef-49c9-a5f7-bf703885d910",
   "metadata": {},
   "source": [
    "### Run `main()`\n",
    "\n",
    "`main()` wraps creating a `top_directory` and running `write_model_inputs_to_disk()`"
   ]
  },
  {
   "cell_type": "code",
   "execution_count": 26,
   "id": "490fae82-a528-4b81-8f2f-b5830bb35890",
   "metadata": {},
   "outputs": [],
   "source": [
    "main(top_directory_name=\"models_top_directory\", models=models)"
   ]
  },
  {
   "cell_type": "markdown",
   "id": "2e5b667e-c51f-402b-9208-c68ad37af03d",
   "metadata": {},
   "source": [
    "## Controls:\n",
    "\n",
    "<div class=\"admonition alert alert-success\">\n",
    "    <p class=\"title\" style=\"font-weight:bold\">Previous: <a href=\"04-many-models.ipynb\">Many models</a></p>\n",
    "    <p class=\"title\" style=\"font-weight:bold\">Next: <a href=\"06-simulate-and-write-outputs.ipynb\">Run Simulation and write outputs</a></p>\n",
    "</div>"
   ]
  },
  {
   "cell_type": "code",
   "execution_count": null,
   "id": "98b991ee-74b0-4a4c-ac1d-3c8781db498e",
   "metadata": {},
   "outputs": [],
   "source": []
  }
 ],
 "metadata": {
  "kernelspec": {
   "display_name": "summer_int",
   "language": "python",
   "name": "summer_int"
  },
  "language_info": {
   "codemirror_mode": {
    "name": "ipython",
    "version": 3
   },
   "file_extension": ".py",
   "mimetype": "text/x-python",
   "name": "python",
   "nbconvert_exporter": "python",
   "pygments_lexer": "ipython3",
   "version": "3.7.13"
  }
 },
 "nbformat": 4,
 "nbformat_minor": 5
}
