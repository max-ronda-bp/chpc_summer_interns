{
 "cells": [
  {
   "cell_type": "markdown",
   "id": "e9e463ad-6abf-4796-a293-d0ad4c927669",
   "metadata": {},
   "source": [
    "# 05 - Write Model Inputs\n",
    "---\n",
    "### Learning objectives:\n",
    "\n",
    "The objective of this section is to take the work you did in `04-many-models.ipynb`, where you created inputs for multiple models, but now you want to write those inputs back to disk. The goal here is to complete the implementation of `write_model_inputs_to_disk()`. You will pass your list of models, iterate through each, extract a pandas dataframe using `model.get_inputs_as_df()`, and writing that `Dataframe` to disk. \n",
    "\n",
    "A lot of the code has been written so you'll need to implement the last step to write the `Dataframe` as `.csv` \n",
    " \n",
    "\n",
    "### Learning Material:\n",
    "\n",
    "| Concepts                                                                                     | Importance  |\n",
    "| -----------                                                                                  | ----------- |\n",
    "| [Python file write](https://www.w3schools.com/python/python_file_write.asp)                  | Basic understanding |\n",
    "| [Python write csv](https://www.pythontutorial.net/python-basics/python-write-csv-file/)      | Basic understanding |\n",
    "| [Pandas dataframe to CSV](https://pandas.pydata.org/docs/reference/api/pandas.DataFrame.to_csv.html)  | Basic understanding |\n",
    "| [Python create directories](https://www.geeksforgeeks.org/create-a-directory-in-python/)     | Basic understanding |\n",
    "\n",
    "### End result should look like:\n",
    "\n",
    "**Folder structure:** \n",
    "\n",
    "```python\n",
    "/username/your_local_directory/models\n",
    "├── models\n",
    "│   ├── model_0\n",
    "│   │   ├── model_inputs.csv\n",
    "│   ├── model_1\n",
    "│   │   ├── model_inputs.csv\n",
    "│   ├── model_2\n",
    "│   │   ├── model_inputs.csv\n",
    "│   ├── model_n\n",
    "│   │   ├── model_inputs.csv\n",
    "```"
   ]
  },
  {
   "cell_type": "markdown",
   "id": "8423058d-6274-41bb-a272-974f576562e1",
   "metadata": {},
   "source": [
    "### Within model top_directory:\n",
    "\n",
    "This show the view with models_top_directory where you can see all models stored\n",
    "\n",
    "<img src=\"../images/models_folder_structure_01.PNG\" style=\"border: 1px solid black\" align=\"left\" width=\"400px\">"
   ]
  },
  {
   "cell_type": "markdown",
   "id": "f17094bf-051c-4324-9405-d690f866997a",
   "metadata": {},
   "source": [
    "### Within a model directory:\n",
    "\n",
    "This view shows what each models folder looks like hosting an inputs file as a `.csv` file\n",
    "\n",
    "<img src=\"../images/models_folder_structure_02.PNG\" style=\"border: 1px solid black\" align=\"left\" width=\"400px\">"
   ]
  },
  {
   "cell_type": "markdown",
   "id": "07666acd-8c7c-4b9e-b7b9-1c15fea544e6",
   "metadata": {},
   "source": [
    "### Difficulty:\n",
    "Medium - given you have `04-many-models` done :) "
   ]
  },
  {
   "cell_type": "markdown",
   "id": "2a5ad4ee-4c34-47d9-b787-d971b19e0306",
   "metadata": {},
   "source": [
    "### Imports"
   ]
  },
  {
   "cell_type": "code",
   "execution_count": null,
   "id": "58cadb76-2d13-41a4-9d5b-b0426a42c96c",
   "metadata": {},
   "outputs": [],
   "source": [
    "%load_ext autoreload\n",
    "%autoreload 2\n",
    "import hjson\n",
    "import os\n",
    "import sys \n",
    "sys.path.append(\"..\") # to import one directory up\n",
    "from src.core import Model\n",
    "from src.helper import create_directory"
   ]
  },
  {
   "cell_type": "markdown",
   "id": "98883e06-bc66-4899-b7dc-50eaa71f64b9",
   "metadata": {},
   "source": [
    "### Todo 1: Import Code from `04-many-models.ipynb` that allows you to create many models"
   ]
  },
  {
   "cell_type": "code",
   "execution_count": 1,
   "id": "3607b311-3b40-481e-a74b-9525be5d3388",
   "metadata": {},
   "outputs": [],
   "source": [
    "# Add code to read into inputs_template (previous section 01-input-template)\n",
    "\n",
    "# Add code to create n_models (previous section 04-many-models)"
   ]
  },
  {
   "cell_type": "markdown",
   "id": "3aae04d2-bfe1-4109-8fd7-99e529988f69",
   "metadata": {},
   "source": [
    "### Todo 2: Finish the implementation\n",
    "\n",
    "Finish implementing of `write_input()`, which is a function used by `write_model_inputs_to_disk()`. You will need to pass the inputs as a `DataFrame` and store it back into a `.csv` file"
   ]
  },
  {
   "cell_type": "code",
   "execution_count": null,
   "id": "bea8fcbe-4d72-447b-b2a5-144e2c1a860b",
   "metadata": {},
   "outputs": [],
   "source": [
    "# TODO 2\n",
    "def write_input(model_directory, model_inputs):\n",
    "    \"\"\"Function writes model_inputs, a Dataframe, back to a .csv under a file name model_n.csv\n",
    "    \n",
    "    Parameters\n",
    "    ---------\n",
    "        model_directory : str\n",
    "            Path where model will sit \n",
    "        model_inputs : Dataframe\n",
    "            Model inputs as dataframe\n",
    "    \"\"\"\n",
    "    # Add code here to save models inputs to .csv\n",
    "    name_of_file = # todo\n",
    "    model_inputs.to_csv(model_inputs)\n",
    "\n",
    "def write_model_inputs_to_disk(models, top_directory):\n",
    "    \"\"\"\n",
    "    Todo: Complete the implementation of this function. Look at where the code\n",
    "    gets the Dataframe (model.get_inputs_as_df()) and use that Dataframe to disk. \n",
    "    \"\"\"\n",
    "    for i, model in enumerate(models):\n",
    "        \n",
    "        # Creates a model directory within top_directory\n",
    "        model_directory = os.path.join(top_directory, \"model_\" + str(i))\n",
    "        create_directory(model_directory)\n",
    "        \n",
    "        # Gets model inputs as a dataframe\n",
    "        model_inputs = model.get_inputs_as_df()\n",
    "        \n",
    "        # TODO 2\n",
    "        write_input(model_directory, model_inputs)\n",
    "        \n",
    "def main(top_directory_name, models):\n",
    "    \"\"\"Main function to run `write_model_inputs_to_disk`\n",
    "    \n",
    "    Parameters\n",
    "    ----------\n",
    "        top_directory_name: str\n",
    "            The name given to your top_directory where models will sit \n",
    "        models: list of Model()'s\n",
    "    \"\"\"\n",
    "    top_directory = os.path.join(os.getcwd(), top_directory_name)\n",
    "    create_directory(top_directory)\n",
    "    \n",
    "    # Run function \n",
    "    write_model_inputs_to_disk(models=models, top_directory=top_directory)"
   ]
  },
  {
   "cell_type": "markdown",
   "id": "83fced0b-0fef-49c9-a5f7-bf703885d910",
   "metadata": {},
   "source": [
    "### Run `main()`\n",
    "\n",
    "`main()` wraps creating a `top_directory` and running `write_model_inputs_to_disk()`"
   ]
  },
  {
   "cell_type": "code",
   "execution_count": null,
   "id": "490fae82-a528-4b81-8f2f-b5830bb35890",
   "metadata": {},
   "outputs": [],
   "source": [
    "main(top_directory_name=\"models_top_directory\", models=models)"
   ]
  },
  {
   "cell_type": "markdown",
   "id": "2e5b667e-c51f-402b-9208-c68ad37af03d",
   "metadata": {},
   "source": [
    "## Controls:\n",
    "\n",
    "<div class=\"admonition alert alert-success\">\n",
    "    <p class=\"title\" style=\"font-weight:bold\">Previous: <a href=\"04-many-models.ipynb\">Many models</a></p>\n",
    "    <p class=\"title\" style=\"font-weight:bold\">Next: <a href=\"06-simulate-and-write-outputs.ipynb\">Run Simulation and write outputs</a></p>\n",
    "</div>"
   ]
  }
 ],
 "metadata": {
  "kernelspec": {
   "display_name": "intel-2021",
   "language": "python",
   "name": "conda-env-intel-2021-py"
  },
  "language_info": {
   "codemirror_mode": {
    "name": "ipython",
    "version": 3
   },
   "file_extension": ".py",
   "mimetype": "text/x-python",
   "name": "python",
   "nbconvert_exporter": "python",
   "pygments_lexer": "ipython3",
   "version": "3.8.12"
  }
 },
 "nbformat": 4,
 "nbformat_minor": 5
}
