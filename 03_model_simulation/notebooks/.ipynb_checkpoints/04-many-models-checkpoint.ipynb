{
 "cells": [
  {
   "cell_type": "markdown",
   "id": "d9c0cf0b-e01d-4fe1-9f01-cf746965681e",
   "metadata": {},
   "source": [
    "# 04 - Create many models \n",
    "---\n",
    "A single model works well at generating a picture of what could happen in some near future but it is not a good representation of all the possible outcomes that could happen. For this reason, scientists tend to build multiple models, or an [ensemble of models](https://www.sciencedirect.com/topics/computer-science/ensemble-modeling), to paint a better picture of future outcomes. An **ensemble of models** is essentially a collection of many models that are well calibrated to all your data but predict different outcomes given your constraints. The motivation to use an ensemble of models is to reduce the generalization error of prediction. Basically, the more models you have, the more stories you have of the subsfurace, the the less likely you are at making an erroneous prediction. This method, of working with ensembles, is not only used by REs but by many practicing scientists. \n",
    "\n",
    "The goal of this section is to be able to build from previous notebooks and create a **list of models** that we can use to pass through our **Simulator** code. \n",
    "\n",
    "There are a couple of todos here but look into implementing the function `create_n_models()`, given the input_templat and n_models (an integer).\n",
    "\n",
    "\n",
    "### Difficulty:\n",
    "Medium - given you have `03-create-model` done :) "
   ]
  },
  {
   "cell_type": "code",
   "execution_count": null,
   "id": "712ea886-d066-4a72-b2f2-7233ae4e3681",
   "metadata": {},
   "outputs": [],
   "source": [
    "%load_ext autoreload\n",
    "%autoreload 2\n",
    "import hjson\n",
    "import sys \n",
    "sys.path.append(\"..\") # to import one directory up\n",
    "from src.core import Model"
   ]
  },
  {
   "cell_type": "markdown",
   "id": "5c01f534-be3a-41f8-838a-11f9c574ff17",
   "metadata": {},
   "source": [
    "### Todo 1: Create list of Models\n",
    "\n",
    "Using code from previous notebook, `03-create-model.ipynb`, either copying it over or creating a function inside a `.py` file, use that to create many models, given `n_models`."
   ]
  },
  {
   "cell_type": "markdown",
   "id": "b49f78d5-6f9c-42a3-bb72-31b8057e5114",
   "metadata": {},
   "source": [
    "**Todo 1.1: Add code to read .hsjon input file into variable `inputs_template`**"
   ]
  },
  {
   "cell_type": "code",
   "execution_count": null,
   "id": "4ec761f1-e0e4-43cc-9e27-3a06e22bc178",
   "metadata": {},
   "outputs": [],
   "source": [
    "# Add code here from previous section to read inputes_template "
   ]
  },
  {
   "cell_type": "markdown",
   "id": "c3ffb785-3b81-4a28-a855-f1dbde4544da",
   "metadata": {},
   "source": [
    "**Todo 1.2: Implement function `create_n_models()`**"
   ]
  },
  {
   "cell_type": "code",
   "execution_count": null,
   "id": "389b28f0-8b41-4470-8cae-c0607d358744",
   "metadata": {},
   "outputs": [],
   "source": [
    "def create_n_models(inputs_template, n_models):\n",
    "    \"\"\"Function creates n_models given an inputs_template OrderDict. \n",
    "    \n",
    "    Todo: Implement function so that you can create a list of Model()'s\n",
    "    and return it\n",
    "    \n",
    "    Parameters\n",
    "    ----------\n",
    "        inputs_template: OrderedDict\n",
    "            inputs_template from reading hjson code\n",
    "        n_models : int \n",
    "            For example, we want 10 models, n_models=10\n",
    "            \n",
    "    Returns\n",
    "    -------\n",
    "        models: list\n",
    "            A list of many Model() objects\n",
    "    \"\"\"\n",
    "    models = []\n",
    "    \n",
    "    for model in range(n_models):\n",
    "        # add code here \n",
    "        # Create a model\n",
    "        # call .generate\n",
    "        # add to list\n",
    "        \n",
    "    return models"
   ]
  },
  {
   "cell_type": "code",
   "execution_count": null,
   "id": "38ad3d0f-976c-4623-b9fd-e619dceba167",
   "metadata": {},
   "outputs": [],
   "source": [
    "# Run here \n",
    "n_models = 10 # you can play with this number\n",
    "models = create_n_models(inputs_template=inputs_template, n_models=n_models)"
   ]
  },
  {
   "cell_type": "code",
   "execution_count": null,
   "id": "d1681dbc-680e-4cbf-ab77-7a79a84d2303",
   "metadata": {},
   "outputs": [],
   "source": [
    "print(models)"
   ]
  },
  {
   "cell_type": "markdown",
   "id": "0044b410-b515-4c4f-a079-639ee28fb7b4",
   "metadata": {},
   "source": [
    "## Controls:\n",
    "\n",
    "<div class=\"admonition alert alert-success\">\n",
    "    <p class=\"title\" style=\"font-weight:bold\">Previous: <a href=\"./03-create-model.ipynb\">Create model</a></p>\n",
    "    <p class=\"title\" style=\"font-weight:bold\">Next: <a href=\"./05-write-model-inputs.ipynb\">Write model inputs</a></p>\n",
    "</div>"
   ]
  }
 ],
 "metadata": {
  "kernelspec": {
   "display_name": "intel-2021",
   "language": "python",
   "name": "conda-env-intel-2021-py"
  },
  "language_info": {
   "codemirror_mode": {
    "name": "ipython",
    "version": 3
   },
   "file_extension": ".py",
   "mimetype": "text/x-python",
   "name": "python",
   "nbconvert_exporter": "python",
   "pygments_lexer": "ipython3",
   "version": "3.8.12"
  }
 },
 "nbformat": 4,
 "nbformat_minor": 5
}
