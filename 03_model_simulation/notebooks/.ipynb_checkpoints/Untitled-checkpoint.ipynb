{
 "cells": [
  {
   "cell_type": "code",
   "execution_count": 17,
   "id": "247a04f2-687a-4ed9-bf83-b97fa3c0cb4a",
   "metadata": {},
   "outputs": [
    {
     "ename": "NameError",
     "evalue": "name 'models_top_directory' is not defined",
     "output_type": "error",
     "traceback": [
      "\u001b[0;31m---------------------------------------------------------------------------\u001b[0m",
      "\u001b[0;31mNameError\u001b[0m                                 Traceback (most recent call last)",
      "\u001b[0;32m<ipython-input-17-abe7a3eb7b7c>\u001b[0m in \u001b[0;36m<module>\u001b[0;34m\u001b[0m\n\u001b[1;32m     76\u001b[0m \u001b[0;32mfor\u001b[0m \u001b[0mmodel\u001b[0m \u001b[0;32min\u001b[0m \u001b[0mmodels\u001b[0m\u001b[0;34m:\u001b[0m\u001b[0;34m\u001b[0m\u001b[0;34m\u001b[0m\u001b[0m\n\u001b[1;32m     77\u001b[0m     print(model)'''\n\u001b[0;32m---> 78\u001b[0;31m \u001b[0mmain\u001b[0m\u001b[0;34m(\u001b[0m\u001b[0mmodels_top_directory\u001b[0m\u001b[0;34m,\u001b[0m \u001b[0mmodels\u001b[0m\u001b[0;34m)\u001b[0m\u001b[0;34m\u001b[0m\u001b[0;34m\u001b[0m\u001b[0m\n\u001b[0m",
      "\u001b[0;31mNameError\u001b[0m: name 'models_top_directory' is not defined"
     ]
    }
   ],
   "source": [
    "import hjson\n",
    "%reload_ext autoreload\n",
    "%autoreload 2\n",
    "import sys\n",
    "sys.path.append(\"..\") # to import one directory up\n",
    "from src.core import Model\n",
    "from src.types import Uniform, Discrete\n",
    "\n",
    "def create_n_models(inputs_template, n_models):\n",
    "    models = []    \n",
    "    for model in range(n_models):\n",
    "        # add code here \n",
    "        # Create a model\n",
    "        # call .generate\n",
    "        # add to list \n",
    "        model = Model(inputs_template)\n",
    "        model.generate()\n",
    "        models.append(model)\n",
    "    return models\n",
    "def write_input(model_directory, model_inputs):\n",
    "    \"\"\"Function writes model_inputs, a Dataframe, back to a .csv under a file name model_n.csv\n",
    "    \n",
    "    Parameters\n",
    "    ---------\n",
    "        model_directory : str\n",
    "            Path where model will sit \n",
    "        model_inputs : Dataframe\n",
    "            Model inputs as dataframe\n",
    "    \"\"\"\n",
    "    # Add code here to save models inputs to .csv\n",
    "    \n",
    "    name_of_file = os.path.join(model_directory, \"model_input.csv\")\n",
    "    model_inputs.to_csv(name_of_file)\n",
    "    \n",
    "def write_model_inputs_to_disk(models, top_directory):\n",
    "    \"\"\"\n",
    "    Todo: Complete the implementation of this function. Look at where the code\n",
    "    gets the Dataframe (model.get_inputs_as_df()) and use that Dataframe to disk. \n",
    "    \"\"\"\n",
    "    for i, model in enumerate(models):\n",
    "        \n",
    "        # Creates a model directory within top_directory\n",
    "        model_directory = os.path.join(top_directory, \"model_\" + str(i))\n",
    "        create_directory(model_directory)\n",
    "        \n",
    "        # Gets model inputs as a dataframe\n",
    "        model_inputs = model.get_inputs_as_df()\n",
    "        \n",
    "        # TODO 2\n",
    "        write_input(model_directory, model_inputs)\n",
    "        \n",
    "def main(top_directory_name, models):\n",
    "    \"\"\"Main function to run `write_model_inputs_to_disk`\n",
    "    \n",
    "    Parameters\n",
    "    ----------\n",
    "        top_directory_name: str\n",
    "            The name given to your top_directory where models will sit \n",
    "        models: list of Model()'s\n",
    "    \"\"\"\n",
    "    top_directory = os.path.join(os.getcwd(), top_directory_name)\n",
    "    create_directory(top_directory)\n",
    "    \n",
    "    # Run function \n",
    "    write_model_inputs_to_disk(models=models, top_directory=top_directory)\n",
    "f = open('/Users/ryanskinner/chpc_summer_interns/03_model_simulation/var/model_input_description.hjson','r')\n",
    "\n",
    "inputs_template = hjson.load(f)\n",
    "\n",
    "#model = Model(inputs_template)\n",
    "#model.generate()\n",
    "#print(model.inputs)\n",
    "'''\n",
    "n_models = 10\n",
    "models = create_n_models(inputs_template=inputs_template, n_models=n_models)\n",
    "for model in models:\n",
    "    print(model)'''"
   ]
  },
  {
   "cell_type": "code",
   "execution_count": 6,
   "id": "6f50fe48-4490-4864-bc42-916d4e6095a5",
   "metadata": {},
   "outputs": [
    {
     "name": "stdout",
     "output_type": "stream",
     "text": [
      "[PERM:1337.6360180623597, PORO:0.17101772369192791, AQ_SIZE:3.933730983845921, CHAN:some]\n"
     ]
    }
   ],
   "source": [
    "mymodel=models[2]\n",
    "print(mymodel)"
   ]
  },
  {
   "cell_type": "code",
   "execution_count": 9,
   "id": "dde2961b-ef1a-4e61-8b61-08aedaee5e82",
   "metadata": {},
   "outputs": [],
   "source": [
    "df=mymodel.get_inputs_as_df()"
   ]
  },
  {
   "cell_type": "code",
   "execution_count": 10,
   "id": "cd2934d5-1456-4afb-9398-ef5ccd162e55",
   "metadata": {},
   "outputs": [
    {
     "data": {
      "text/html": [
       "<div>\n",
       "<style scoped>\n",
       "    .dataframe tbody tr th:only-of-type {\n",
       "        vertical-align: middle;\n",
       "    }\n",
       "\n",
       "    .dataframe tbody tr th {\n",
       "        vertical-align: top;\n",
       "    }\n",
       "\n",
       "    .dataframe thead th {\n",
       "        text-align: right;\n",
       "    }\n",
       "</style>\n",
       "<table border=\"1\" class=\"dataframe\">\n",
       "  <thead>\n",
       "    <tr style=\"text-align: right;\">\n",
       "      <th></th>\n",
       "      <th>PERM</th>\n",
       "      <th>PORO</th>\n",
       "      <th>AQ_SIZE</th>\n",
       "      <th>CHAN</th>\n",
       "    </tr>\n",
       "  </thead>\n",
       "  <tbody>\n",
       "    <tr>\n",
       "      <th>0</th>\n",
       "      <td>1337.636018</td>\n",
       "      <td>0.171018</td>\n",
       "      <td>3.933731</td>\n",
       "      <td>some</td>\n",
       "    </tr>\n",
       "  </tbody>\n",
       "</table>\n",
       "</div>"
      ],
      "text/plain": [
       "          PERM      PORO   AQ_SIZE  CHAN\n",
       "0  1337.636018  0.171018  3.933731  some"
      ]
     },
     "execution_count": 10,
     "metadata": {},
     "output_type": "execute_result"
    }
   ],
   "source": [
    "df"
   ]
  },
  {
   "cell_type": "code",
   "execution_count": null,
   "id": "96548852-6ed7-4785-825d-1b422b5a57cd",
   "metadata": {},
   "outputs": [],
   "source": []
  }
 ],
 "metadata": {
  "kernelspec": {
   "display_name": "summer_int",
   "language": "python",
   "name": "summer_int"
  },
  "language_info": {
   "codemirror_mode": {
    "name": "ipython",
    "version": 3
   },
   "file_extension": ".py",
   "mimetype": "text/x-python",
   "name": "python",
   "nbconvert_exporter": "python",
   "pygments_lexer": "ipython3",
   "version": "3.7.13"
  }
 },
 "nbformat": 4,
 "nbformat_minor": 5
}
