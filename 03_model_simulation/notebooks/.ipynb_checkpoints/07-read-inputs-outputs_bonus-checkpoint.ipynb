{
 "cells": [
  {
   "cell_type": "markdown",
   "id": "b6b1605b-6912-4048-abcc-fcceb694f6fd",
   "metadata": {},
   "source": [
    "# 07 - Read inputs/outputs from each model\n",
    "----\n",
    "## Bonus material. \n",
    "\n",
    "The idea behind this is to be able to collect both the inputs and outputs you generated in the workflow and stored them back into a collection of your choice. Once you have that data we can start visualizing the different sampling each model created as well as their respective output components. \n",
    "\n",
    "Ask a TA for more help if you get to this part"
   ]
  }
 ],
 "metadata": {
  "kernelspec": {
   "display_name": "intel-2021",
   "language": "python",
   "name": "conda-env-intel-2021-py"
  },
  "language_info": {
   "codemirror_mode": {
    "name": "ipython",
    "version": 3
   },
   "file_extension": ".py",
   "mimetype": "text/x-python",
   "name": "python",
   "nbconvert_exporter": "python",
   "pygments_lexer": "ipython3",
   "version": "3.8.12"
  }
 },
 "nbformat": 4,
 "nbformat_minor": 5
}
