{
 "cells": [
  {
   "cell_type": "markdown",
   "id": "2be3d1cd-7ef8-42dc-a753-28e6cebe702d",
   "metadata": {},
   "source": [
    "# 03 - Create a Model\n",
    "---\n",
    "### Learning Objectives:\n",
    "Now that you are more familiar opening fies with `.hjson`, understanding how to access properties from an `OrderedDict`, and also played around with Python `classes` and `numpy`, lets start implementing some of the details that make up a `Model`.\n",
    "\n",
    "In the **context of reservoir simulation**, a **Model** describes a single computer model used to predict fluid-flow through porous media. In our example, the model will be a cut-down version of that but in reality reservoir models are used for two essential processes: to **match historical performance of a reservoir by running history matching workflows and also to make prediction on how a well or a reservoir will act under certain scenarios perhaps in many years to come.** \n",
    "\n",
    "The **goal** of this section is to take a single unit class, `Model`, initialize it with an `inputs_template` dict and write a function called `generate()` that will take `inputs_template` and generate the appropiate distributions given the template. \n",
    "\n",
    "For more help, look inside the Model code inside `/src` or reach out to one of the TAs.\n",
    "\n",
    "### Learning material\n",
    "\n",
    "\n",
    "| Concepts                                                                                                    | Importance        |\n",
    "| -----------                                                                                                 | -----------       |\n",
    "| [Reservoir models](https://www.sciencedirect.com/topics/earth-and-planetary-sciences/reservoir-simulation)  | Fun read          |\n",
    "| [Refresher on Python classes](https://www.w3schools.com/python/python_classes.asp)                          | Refresher          |\n",
    "\n",
    "### End Result:\n",
    "\n",
    "Your end result should behave as following:\n",
    "\n",
    "```python\n",
    "\n",
    "# Initialize model class with inputs template\n",
    "model = Model(inputs_template)\n",
    "\n",
    "# Call generate\n",
    "model.generate()\n",
    "\n",
    "# print out model inputs \n",
    "print(model.inputs)\n",
    ">>>[PERM:2189.8833075395087,PORO:0.17159581263029622,AQ_FIZE:36.21321636919663,CHAN:many]\n",
    "```\n",
    "\n",
    "### Difficulty:\n",
    "Medium"
   ]
  },
  {
   "cell_type": "markdown",
   "id": "0a222e6e-bf56-4206-a3fa-e45a6a5dbe02",
   "metadata": {},
   "source": [
    "## Imports"
   ]
  },
  {
   "cell_type": "code",
   "execution_count": 1,
   "id": "5ee486e9-1b80-4491-9031-79b56b3c6f4f",
   "metadata": {},
   "outputs": [],
   "source": [
    "%load_ext autoreload\n",
    "%autoreload 2\n",
    "import hjson\n",
    "import sys \n",
    "sys.path.append(\"..\") # to import one directory up\n",
    "from src.core import Model"
   ]
  },
  {
   "cell_type": "markdown",
   "id": "20d1fb36-6a5d-42fb-981f-fb9fae514de0",
   "metadata": {},
   "source": [
    "### Todo 1: Initialize Model class with inputs template\n",
    "\n",
    "Look back at previous notebook, `01-input-template.ipynb`, and pass in `inputs_template` to initialize the `Model` class. You can copy over the code here if you want or write a function you can re-use. "
   ]
  },
  {
   "cell_type": "code",
   "execution_count": 1,
   "id": "be847016-8685-431f-8a8d-320427e735c2",
   "metadata": {},
   "outputs": [],
   "source": [
    "# add code from 01-input-template.ipynb"
   ]
  },
  {
   "cell_type": "code",
   "execution_count": 3,
   "id": "9be48150-dbad-41f4-9cc5-ecf4082b19a0",
   "metadata": {},
   "outputs": [],
   "source": [
    "model = Model(inputs_template) "
   ]
  },
  {
   "cell_type": "markdown",
   "id": "de019c4e-e755-44f8-8472-e0b27fa43cfb",
   "metadata": {},
   "source": [
    "### Todo 2: Finish implementation of generate() function. \n",
    "\n",
    "Look into `/src/core.py` to understand where you need to add your code. For more help reach out to one of the TAs."
   ]
  },
  {
   "cell_type": "code",
   "execution_count": 4,
   "id": "3b171278-a553-4563-b4a3-a9b75e6adaf3",
   "metadata": {},
   "outputs": [],
   "source": [
    "model.generate() # call generate"
   ]
  },
  {
   "cell_type": "markdown",
   "id": "e6b55777-f706-4ec8-afa5-ba385802e7d9",
   "metadata": {},
   "source": [
    "### Todo 3: print out model inputs to make sure it looks something like this:\n",
    "\n",
    "```python\n",
    "print(model.inputs)\n",
    ">>>[PERM:2189.8833075395087,PORO:0.17159581263029622,AQ_FIZE:36.21321636919663,CHAN:many]\n",
    "```"
   ]
  },
  {
   "cell_type": "code",
   "execution_count": 6,
   "id": "a9ee95b7-9329-40d8-afde-015ab5a1e43a",
   "metadata": {},
   "outputs": [
    {
     "name": "stdout",
     "output_type": "stream",
     "text": [
      "[PERM:2231.4749419181476, PORO:0.14835656090903948, AQ_SIZE:19.509523966974854, CHAN:many]\n"
     ]
    }
   ],
   "source": [
    "print(model.inputs)"
   ]
  },
  {
   "cell_type": "markdown",
   "id": "c35b7c1f-77c9-4fae-948a-e49b2207d20c",
   "metadata": {},
   "source": [
    "## Controls:\n",
    "\n",
    "<div class=\"admonition alert alert-success\">\n",
    "    <p class=\"title\" style=\"font-weight:bold\">Previous: <a href=\"02-model-inputs.ipynb\">Model Inputs</a></p>\n",
    "         <p class=\"title\" style=\"font-weight:bold\">Next: <a href=\"04-many-models.ipynb\">Create many models</a></p>\n",
    "</div>"
   ]
  }
 ],
 "metadata": {
  "kernelspec": {
   "display_name": "intel-2021",
   "language": "python",
   "name": "conda-env-intel-2021-py"
  },
  "language_info": {
   "codemirror_mode": {
    "name": "ipython",
    "version": 3
   },
   "file_extension": ".py",
   "mimetype": "text/x-python",
   "name": "python",
   "nbconvert_exporter": "python",
   "pygments_lexer": "ipython3",
   "version": "3.8.12"
  }
 },
 "nbformat": 4,
 "nbformat_minor": 5
}
